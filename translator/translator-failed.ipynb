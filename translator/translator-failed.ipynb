{
 "cells": [
  {
   "cell_type": "markdown",
   "id": "431840ae",
   "metadata": {},
   "source": [
    "# Working Azure Translator Example\n",
    "\n",
    "The Azure Translator Text SDK (`azure-ai-translation-text`) is still in preview and has authentication issues. The REST API approach below works reliably.\n",
    "\n",
    "## Key differences:\n",
    "- **SDK approach**: Uses `azure-ai-translation-text` package (has auth issues)\n",
    "- **REST API approach**: Direct HTTP calls to the Translator API (works reliably)\n",
    "\n",
    "The REST API approach uses:\n",
    "- `Ocp-Apim-Subscription-Key` header for your subscription key\n",
    "- `Ocp-Apim-Subscription-Region` header for your region\n",
    "- Direct HTTP POST to the translate endpoint"
   ]
  },
  {
   "cell_type": "markdown",
   "id": "4c80e984-bd98-4e39-b0bd-9083c8c93dfa",
   "metadata": {},
   "source": [
    "# Resources\n",
    "https://github.com/Azure/azure-sdk-for-python/blob/main/sdk/translation/azure-ai-translation-text/README.md\n",
    "\n",
    "This attempt failed because the API is in preview and we could not find a working example. We were getting authenication issues despite using the correct API key. So instead with translator its recommended to use the WebAPI code example."
   ]
  },
  {
   "cell_type": "code",
   "execution_count": null,
   "id": "0e20cfd2-090f-4efb-901e-6557a085ecf8",
   "metadata": {
    "tags": []
   },
   "outputs": [],
   "source": [
    "%pip install azure-ai-translation-text==1.0.0b1"
   ]
  },
  {
   "cell_type": "code",
   "execution_count": 20,
   "id": "de520402-8e34-40b9-8394-4e67cdcd31ff",
   "metadata": {
    "tags": []
   },
   "outputs": [],
   "source": [
    "from azure.core.credentials import AzureKeyCredential\n",
    "from azure.ai.translation.text import TextTranslationClient\n",
    "from azure.core.exceptions import HttpResponseError"
   ]
  },
  {
   "cell_type": "code",
   "execution_count": null,
   "id": "aafef02a-cde1-4500-a50b-e73adf382bf5",
   "metadata": {
    "tags": []
   },
   "outputs": [],
   "source": [
    "apikey = \"\"\n",
    "region = \"westus\"\n",
    "endpoint = \"https://api.cognitive.microsofttranslator.com/\""
   ]
  },
  {
   "cell_type": "code",
   "execution_count": 22,
   "id": "5788a6fc-cd06-41da-af95-a3cea3bad772",
   "metadata": {
    "tags": []
   },
   "outputs": [],
   "source": [
    "credential = AzureKeyCredential(apikey)\n",
    "text_translator = TextTranslationClient(\n",
    "    credential=credential,\n",
    "    endpoint=endpoint,\n",
    "    region=region\n",
    ")"
   ]
  },
  {
   "cell_type": "code",
   "execution_count": null,
   "id": "44efb28b-f93e-4383-adcd-efa663f3e7f9",
   "metadata": {
    "tags": []
   },
   "outputs": [],
   "source": [
    "try:\n",
    "    # Use correct language codes (ja for Japanese, not jp)\n",
    "    langs = [\"ja\", \"es\", \"de\"]\n",
    "    input_text = [\"This is a test\"]\n",
    "\n",
    "    response = text_translator.translate(content=input_text, to=langs)\n",
    "    translation = response[0] if response else None\n",
    "\n",
    "    if translation:\n",
    "        detected_language = translation.detected_language\n",
    "        if detected_language:\n",
    "            print(\n",
    "                f\"Detected languages of the input text: {detected_language.language} with score: {detected_language.score}.\"\n",
    "            )\n",
    "        for translated_text in translation.translations:\n",
    "            print(f\"Text was translated to: '{translated_text.to}' and the result is: '{translated_text.text}'.\")\n",
    "\n",
    "except HttpResponseError as exception:\n",
    "    print(f\"HTTP Error occurred: {exception}\")\n",
    "    if hasattr(exception, 'error') and exception.error is not None:\n",
    "        print(f\"Error Code: {exception.error.code}\")\n",
    "        print(f\"Message: {exception.error.message}\")\n",
    "except Exception as e:\n",
    "    print(f\"An error occurred: {e}\")"
   ]
  },
  {
   "cell_type": "code",
   "execution_count": null,
   "id": "e41be881-4d74-4452-8d0c-136c672408aa",
   "metadata": {},
   "outputs": [],
   "source": [
    "# Working REST API approach for Azure Translator\n",
    "import requests\n",
    "import json\n",
    "\n",
    "# Your Azure Translator credentials\n",
    "subscription_key = \"3RsadaEHwTb9YHekAPHuBB6ra9Ndl5Kzlr5nXMDiOayJ5OKLiiB0JQQJ99BFAC4f1cMXJ3w3AAAbACOGcJp3\"\n",
    "region = \"westus\"\n",
    "endpoint = \"https://api.cognitive.microsofttranslator.com\"\n",
    "\n",
    "# Text to translate\n",
    "text_to_translate = [\"This is a test\"]\n",
    "target_languages = [\"ja\", \"es\", \"de\"]\n",
    "\n",
    "# Construct the request\n",
    "path = '/translate'\n",
    "constructed_url = endpoint + path\n",
    "\n",
    "params = {\n",
    "    'api-version': '3.0',\n",
    "    'to': target_languages\n",
    "}\n",
    "\n",
    "headers = {\n",
    "    'Ocp-Apim-Subscription-Key': subscription_key,\n",
    "    'Ocp-Apim-Subscription-Region': region,\n",
    "    'Content-type': 'application/json',\n",
    "    'X-ClientTraceId': str(uuid.uuid4())\n",
    "}\n",
    "\n",
    "# Request body\n",
    "body = [{'text': text} for text in text_to_translate]\n",
    "\n",
    "try:\n",
    "    import uuid\n",
    "    \n",
    "    request = requests.post(constructed_url, params=params, headers=headers, json=body)\n",
    "    response = request.json()\n",
    "    \n",
    "    if request.status_code == 200:\n",
    "        print(\"Translation successful!\")\n",
    "        for i, translation_result in enumerate(response):\n",
    "            print(f\"\\nOriginal text: {text_to_translate[i]}\")\n",
    "            \n",
    "            # Detected language\n",
    "            if 'detectedLanguage' in translation_result:\n",
    "                detected = translation_result['detectedLanguage']\n",
    "                print(f\"Detected language: {detected['language']} (confidence: {detected['score']})\")\n",
    "            \n",
    "            # Translations\n",
    "            for translation in translation_result['translations']:\n",
    "                print(f\"Translation to {translation['to']}: {translation['text']}\")\n",
    "    else:\n",
    "        print(f\"Error: {request.status_code}\")\n",
    "        print(f\"Response: {response}\")\n",
    "        \n",
    "except Exception as e:\n",
    "    print(f\"An error occurred: {e}\")"
   ]
  }
 ],
 "metadata": {
  "kernelspec": {
   "display_name": "Python 3",
   "language": "python",
   "name": "python3"
  },
  "language_info": {
   "codemirror_mode": {
    "name": "ipython",
    "version": 3
   },
   "file_extension": ".py",
   "mimetype": "text/x-python",
   "name": "python",
   "nbconvert_exporter": "python",
   "pygments_lexer": "ipython3",
   "version": "3.13.5"
  }
 },
 "nbformat": 4,
 "nbformat_minor": 5
}
